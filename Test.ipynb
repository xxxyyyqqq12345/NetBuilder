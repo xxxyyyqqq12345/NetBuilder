{
 "cells": [
  {
   "cell_type": "code",
   "execution_count": 1,
   "metadata": {},
   "outputs": [],
   "source": [
    "import numpy as np\n",
    "from NetBuilder import *\n",
    "from Graph import *"
   ]
  },
  {
   "cell_type": "code",
   "execution_count": 2,
   "metadata": {},
   "outputs": [],
   "source": [
    "#create 2 input layers and 1 output placeholder for trainning purpose\n",
    "x1=NNetLayers(\"Inputs\",net_specification={\"dtype\":tf.float32, \"shape\":[None, 64]},name=\"x1\")\n",
    "x2=NNetLayers(\"Inputs\",net_specification={\"dtype\":tf.float32, \"shape\":[None, 64]},name=\"x2\")\n",
    "y_l7=NNetLayers(\"Inputs\",net_specification={\"dtype\":tf.float32, \"shape\":[None, 42]},name=\"y_l7\")\n",
    "\n",
    "#Create many layers\n",
    "l1=NNetLayers(\"dense\",net_specification={\"units\":64},name=\"l1\")\n",
    "l2x=NNetLayers(\"+\",name=\"l2x\")\n",
    "l2=NNetLayers(\"dense\",net_specification=[64],name=\"l2\")\n",
    "l3x=NNetLayers(\"+\",name=\"l3x\")\n",
    "l3=NNetLayers(\"dense\",net_specification=[8],name=\"l3\")\n",
    "l4=NNetLayers(\"dense\",net_specification=[250],name=\"l4\")\n",
    "l5=NNetLayers(\"dense\",net_specification=[42],name=\"l5\")\n",
    "l6=NNetLayers(\"dense\",net_specification=[42],name=\"l6\")\n",
    "l6_d=NNetLayers(\"dropout\",net_specification={\"rate\":0.5},name=\"l6_d\")\n",
    "\n",
    "#Create final output layer\n",
    "l7=NNetLayers(\"+\",name=\"l7\")\n",
    "\n",
    "#define loss to be mean-square error\n",
    "loss=NNetLayers(\"MSE\",name=\"MSE_loss\")\n",
    "\n",
    "#build the graph of our netword\n",
    "Net=Graph([x1,x2,y_l7,l1,l2,l2x,l3,l3x,l4,l5,l6,l6_d,l7,loss],[(x1,l1),(l2,l2x),(x1,l2x),(x2,l2),(l1,l3x),(l2x,l3x),(l3x,l3),(l2,l4),\n",
    "                                                     (l4,l5),(l3,l6),(l6,l6_d),(l6_d,l7),(l5,l7),(l7,loss),(y_l7,loss)])\n",
    "#create the actual net\n",
    "neural_net=NNet({\"x1\":x1,\"x2\":x2,\"y_l7\":y_l7},[l7],Net)\n",
    "#create our optin\n",
    "neural_net.create_optimizer(\"loss_optimizer\",\"AdamOptimizer\",\"MSE_loss\",args={\"learning_rate\":0.01})\n"
   ]
  },
  {
   "cell_type": "code",
   "execution_count": 3,
   "metadata": {},
   "outputs": [],
   "source": [
    "neural_net.build_net(\"tf\")"
   ]
  },
  {
   "cell_type": "code",
   "execution_count": 4,
   "metadata": {},
   "outputs": [
    {
     "data": {
      "image/png": "[encoded data removed]",
      "text/plain": [
       "<Figure size 432x288 with 1 Axes>"
      ]
     },
     "metadata": {},
     "output_type": "display_data"
    }
   ],
   "source": [
    "neural_net.display()"
   ]
  },
  {
   "cell_type": "code",
   "execution_count": 5,
   "metadata": {},
   "outputs": [],
   "source": [
    "val_x1=np.random.rand(64,64)\n",
    "val_x2=np.random.rand(64,64)\n",
    "val_y=np.random.rand(64,42)\n",
    "\n",
    "out=neural_net.run_net({\"x1\":val_x1,\"x2\":val_x2})"
   ]
  },
  {
   "cell_type": "code",
   "execution_count": 6,
   "metadata": {},
   "outputs": [],
   "source": [
    "out=neural_net.train_net({\"x1\":val_x1,\"x2\":val_x2,\"y_l7\":val_y},\"loss_optimizer\",epochs=83)"
   ]
  },
  {
   "cell_type": "code",
   "execution_count": 7,
   "metadata": {},
   "outputs": [],
   "source": [
    "out=neural_net.run_net({\"x1\":val_x1,\"x2\":val_x2})"
   ]
  },
  {
   "cell_type": "code",
   "execution_count": 8,
   "metadata": {},
   "outputs": [
    {
     "data": {
      "text/plain": [
       "[array([[-0.4264219 ,  0.9725154 , -0.22450614, ...,  1.0685112 ,\n",
       "          0.38900566,  0.80049545],\n",
       "        [ 0.32024056,  0.06250014, -0.0019564 , ...,  0.78466046,\n",
       "          0.70294863, -0.38277408],\n",
       "        [-0.32991853,  0.6136511 ,  0.07536878, ...,  0.8157946 ,\n",
       "          0.28271994,  0.35646915],\n",
       "        ...,\n",
       "        [ 0.9097606 ,  0.4502106 ,  0.6647498 , ...,  0.33236495,\n",
       "         -0.01773675,  0.4839452 ],\n",
       "        [ 0.65643835,  0.8379276 , -0.00327955, ...,  0.103792  ,\n",
       "          0.00793306,  1.0551674 ],\n",
       "        [ 0.09112385,  1.2868438 ,  0.7605781 , ...,  1.2160509 ,\n",
       "         -0.0775583 ,  0.30288047]], dtype=float32)]"
      ]
     },
     "execution_count": 8,
     "metadata": {},
     "output_type": "execute_result"
    }
   ],
   "source": [
    "out"
   ]
  }
 ],
 "metadata": {
  "kernelspec": {
   "display_name": "Python 3",
   "language": "python",
   "name": "python3"
  },
  "language_info": {
   "codemirror_mode": {
    "name": "ipython",
    "version": 3
   },
   "file_extension": ".py",
   "mimetype": "text/x-python",
   "name": "python",
   "nbconvert_exporter": "python",
   "pygments_lexer": "ipython3",
   "version": "3.6.2"
  }
 },
 "nbformat": 4,
 "nbformat_minor": 2
}
